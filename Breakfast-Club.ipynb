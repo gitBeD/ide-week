{
 "cells": [
  {
   "cell_type": "markdown",
   "metadata": {},
   "source": [
    "# Breakfast if"
   ]
  },
  {
   "cell_type": "code",
   "execution_count": null,
   "metadata": {},
   "outputs": [],
   "source": [
    "print(\"1. Ruehrei\")\n",
    "print(\"2. Broetchen\")\n",
    "print(\"3. Croissants\")\n",
    "print(\"4. Muesli\")\n",
    "\n",
    "ErsteAuswahl = int(input(\"Wählen Sie ein Frühstück aus: \"))\n",
    "\n",
    "if(ErsteAuswahl == 2):\n",
    "    Essen = \"Brötchen\"\n",
    "elif (ErsteAuswahl == 3):\n",
    "    Essen = \"Croissants\"\n",
    "\n",
    "if (ErsteAuswahl == 1):\n",
    "    print(\"1. Toast\")\n",
    "    print(\"2. Graubrot\")\n",
    "    print(\"3. Schwarzbrot\")\n",
    "    print(\"4. Vollkorntoast\")\n",
    "    Brot = int(input(\"Wählen Sie ein Brot aus: \"))\n",
    "\n",
    "    if (Brot == 1):\n",
    "        print(\"Sie haben Rührei mit Toast ausgewählt.\")\n",
    "    elif (Brot == 2):\n",
    "        print(\"Sie haben Rührei mit Graubrot ausgewählt.\")\n",
    "    elif (Brot == 3):\n",
    "        print(\"Sie haben Rührei mit Schwarzbrot ausgewählt.\")\n",
    "    elif (Brot == 4):\n",
    "        print(\"Sie haben Rührei mit Vollkorntoast ausgewählt.\")\n",
    "    else:\n",
    "        print(\"Wir haben Rührei, aber diese Brotsorte haben wir nicht.\")\n",
    "        \n",
    "elif (ErsteAuswahl == 2) or (ErsteAuswahl == 3):\n",
    "    print(\"1. Marmelade\")\n",
    "    print(\"2. Frischkäse\")\n",
    "    print(\"3. Nussnougatcreme\")\n",
    "\n",
    "    Belag = int(input(\"Wählen Sie einen Belag aus: \"))\n",
    "\n",
    "    if(Belag == 1):\n",
    "        print(\"Sie haben \" + Essen + \" mit Marmelade ausgewählt.\")\n",
    "    elif(Belag == 2):\n",
    "        print(\"Sie haben \" + Essen + \" mit Frischkäse ausgewählt.\")\n",
    "    elif(Belag == 3):\n",
    "        \n",
    "        print(\"Sie haben \" + Essen + \" mit Nussnougatcreme ausgewählt.\")\n",
    "    else:\n",
    "        print(\"Wir haben \"+ Essen + \", aber diesen Belag haben wir nicht.\")\n",
    "\n",
    "elif(ErsteAuswahl == 4):\n",
    "    print(\"Sie haben Müsli ausgewählt!\")\n",
    "\n",
    "else:\n",
    "    print(\"Dieses Frühstück bieten wir nicht an!\")"
   ]
  },
  {
   "cell_type": "code",
   "execution_count": null,
   "metadata": {},
   "outputs": [],
   "source": []
  }
 ],
 "metadata": {
  "kernelspec": {
   "display_name": "Python 3",
   "language": "python",
   "name": "python3"
  },
  "language_info": {
   "codemirror_mode": {
    "name": "ipython",
    "version": 3
   },
   "file_extension": ".py",
   "mimetype": "text/x-python",
   "name": "python",
   "nbconvert_exporter": "python",
   "pygments_lexer": "ipython3",
   "version": "3.7.6"
  }
 },
 "nbformat": 4,
 "nbformat_minor": 4
}
